{
  "cells": [
    {
      "cell_type": "markdown",
      "metadata": {
        "id": "7KsMOi0gysv2"
      },
      "source": [
        "# Основи Python\n",
        "\n",
        "## Завдання № 1\n",
        "Написати функцію з одним аргументом, яка перевіряє чи є аргумент парним чи непарним. Функція повинна повернути `even` або `odd` в залежності від того яке то число. Якщо аргумент `None` або не є числом -- необхідно повернути пусту строку."
      ]
    },
    {
      "cell_type": "code",
      "execution_count": 1,
      "metadata": {
        "colab": {
          "base_uri": "https://localhost:8080/"
        },
        "id": "slQo9sC1ysv6",
        "outputId": "9136d3d9-c072-402c-b1cb-b069dde77a26"
      },
      "outputs": [
        {
          "name": "stdout",
          "output_type": "stream",
          "text": [
            "odd\n",
            "even\n",
            "\n"
          ]
        }
      ],
      "source": [
        "from __future__ import annotations\n",
        "\n",
        "def is_even(arg: int) -> str:\n",
        "  # Перевіряємо чи наше число парне чи ні\n",
        "    if arg is None or not isinstance(arg, int):\n",
        "        return \"\"\n",
        "    elif arg % 2 == 0:\n",
        "        return \"even\"\n",
        "    else:\n",
        "        return \"odd\"\n",
        "\n",
        "# Перевіряємо виконання функції\n",
        "print(is_even(1))\n",
        "print(is_even(2))\n",
        "print(is_even(\"abc\"))"
      ]
    },
    {
      "cell_type": "markdown",
      "metadata": {
        "id": "UqdngUGVysv8"
      },
      "source": [
        "## Завдання № 2\n",
        "Написати функцію, яка починає перебирати числа від 1 до нескінченності і перевіряє чи є число простим (просте число - те яке ділиться лише на 1 чи само на себе). Якщо просте число знайдене - воно додається до списку `numbers`. Після пʼятого знайденого простого числа функція повинна повернути суму всіх пʼяти простих чисел у списку."
      ]
    },
    {
      "cell_type": "code",
      "execution_count": null,
      "metadata": {
        "colab": {
          "base_uri": "https://localhost:8080/"
        },
        "id": "9pzBs7zgysv8",
        "outputId": "badd82c1-ee5b-4a84-d5d4-8f6cf3aed264"
      },
      "outputs": [
        {
          "name": "stdout",
          "output_type": "stream",
          "text": [
            "28\n"
          ]
        }
      ],
      "source": [
        "from __future__ import annotations\n",
        "\n",
        "def sum_simple() -> int:\n",
        "  numbers = []\n",
        "  current_number = 2  # Починаємо перевірку з першого числа після 1\n",
        "  while len(numbers) < 5:\n",
        "      div = False # Умова чи число поділилось на щось крім себе і 1\n",
        "      for each in numbers: # Так як будь яке не просте число можна розкласти на прості то ми перевіряємо чи не ділиться поточне число на будь яке з нашого списку простих, якщо ні значить таке число теж просте\n",
        "        if current_number % each == 0:\n",
        "          div = True\n",
        "      if div == False:\n",
        "        numbers.append(current_number)\n",
        "      current_number += 1 # Переходим на наступне число\n",
        "\n",
        "  return sum(numbers)\n",
        "\n",
        "# Перевіряємо виконання функції\n",
        "print(sum_simple())"
      ]
    },
    {
      "cell_type": "markdown",
      "metadata": {
        "id": "mwdZXlEBysv9"
      },
      "source": [
        "## Завдання № 3\n",
        "Написати функцію з одним аргументом `n`, що є числом. Функція повинна повернути суму наступного ряду з `n` чисел $1 + 11 + 111 + 1111 + ....$, де кожний елемент - число з постійно зростаючою кількістю одиниць.\n",
        "\n",
        "Наприклад:\n",
        "\n",
        "Ви передаєте в функцію аргумент `5`.\n",
        "\n",
        "Функція рахує сумму для ряду виду: $1 + 11 + 111 + 1111 + 11111$.\n",
        "\n",
        "В даному прикладі вона повинна повернути число `12345`"
      ]
    },
    {
      "cell_type": "code",
      "execution_count": null,
      "metadata": {
        "colab": {
          "base_uri": "https://localhost:8080/"
        },
        "id": "o3XLOM4Kysv9",
        "outputId": "99a8005d-b6ed-43dc-9c8a-d59bde01a366"
      },
      "outputs": [
        {
          "name": "stdout",
          "output_type": "stream",
          "text": [
            "12345\n"
          ]
        }
      ],
      "source": [
        "from __future__ import annotations\n",
        "\n",
        "def sum_ones(n: int = 5) -> int:\n",
        "  sum = 1 # Починаєм сумувать з найменшого числа, тобто 1\n",
        "  temp = 11 # Число що позначає наступне\n",
        "  for i in range(1,n): # Повторюємо n разів\n",
        "    sum += temp # Додаємо до нашої суми наступне число\n",
        "    temp = temp * 10 + 1 # Обраховуємо наступне число\n",
        "  return sum\n",
        "\n",
        "# Перевіряємо виконання функції\n",
        "print(sum_ones())"
      ]
    },
    {
      "cell_type": "markdown",
      "metadata": {
        "id": "uGvxqulNysv-"
      },
      "source": [
        "# Об’єктно-орієнтоване програмування за допомогою Python\n",
        "## Завдання №4\n",
        "\n",
        "Створити обʼктну модель організації.\n",
        "\n",
        "В організації повинно бути 3 типи робітників `Employee`: `Developer`, `Designer` & `Manager`.\n",
        "\n",
        "У кожного `Employee` повинні бути поля:\n",
        "- Імʼя - `name`\n",
        "- Призвіще - `surname`\n",
        "- Базова заробітна плата - `base_salary`\n",
        "- Досвід (у роках) - `experience`\n",
        "\n",
        "У `Designer` додатково повинен бути коефіцієнт ефективності `eff_coef`- число від 0 до 1, включно. Якщо коефіцієнт виходить за межі цього діапазону - необхідно поставити значення 0 (якщо він негативний) або 1 (якщо він більше 1).\n",
        "\n",
        "У `Manager` повинна бути команда (список) що складається з довільної кількості `Developer` та `Designer`.\n",
        "\n",
        "Створити обʼєкт `Department`, що містить список `Manager` (які в свою чергу містять команди).\n",
        "Department повинен мати метод give_salary() який повинен надрукувати зарплату ВСІХ `Employee` цієї організації в форматі __іʼмя призвіще отримав counted_salary шекєлей__ (Чому не державною???).\n",
        "\n",
        "Зарплата `counted_salary` для кожного `Employee` обраховується з поля `base_salary` (базова заробітна плата) з наступними умовами:\n",
        "- якщо його досвід роботи більше 2 років, він отримує `base_salary + 200`, але якщо його досвід більше 5 років - він отримує `base_salary * 1.2 + 500`.\n",
        "- Додатково, на зп `Designer` впливає коефіцієнт ефективності `counted_salary * eff_coef`.\n",
        "- Додатково, зп Manager розраховується з `counted_salary` плюс:\n",
        "    - Якщо в його команді більше 5 людей - `counted_salary + 200`, але якщо в його команді більше 10 людей то `counted_salary + 300`.\n",
        "    - Якщо в його команді більше половини `Developer` - його кінцева зп збільшується ще на `10%`.\n",
        "\n",
        "Додаткова інформація:\n",
        "- Для використання методів з суперкласу можна використати метод `super()`.\n",
        "- Перевірити чи є об’єкт екземпляром класу можна за допомогою методу `isinstance`. Його перший агрументом - екземпляр класу, який ми перевіряємо, а другий - імʼя (_батьківського_) класу. Наприклад, для екземпляра автобуса що є транспортним засобом `print(isinstance(myBusInstance, Vehicle)` виведе true."
      ]
    },
    {
      "cell_type": "code",
      "execution_count": 1,
      "metadata": {
        "colab": {
          "base_uri": "https://localhost:8080/"
        },
        "id": "7PblVK0pysv-",
        "outputId": "8deba93a-6a84-487e-d61d-384bd23edb8a"
      },
      "outputs": [
        {
          "name": "stdout",
          "output_type": "stream",
          "text": [
            "Vlad Gudz отримав 8900.0 шекелів.\n",
            "Taras Zaika отримав 11300.0 шекелів.\n",
            "Andriy Chirvon отримав 3290.0 шекелів.\n",
            "Vlad Tumochuk отримав 6700 шекелів.\n",
            "Oleh Pleskach отримав 1000 шекелів.\n",
            "Andriy Melnuk отримав 5900.0 шекелів.\n"
          ]
        }
      ],
      "source": [
        "from __future__ import annotations\n",
        "\n",
        "class Employee:\n",
        "    def __init__(self, name: str, surname: str, base_salary: float, experience: int) -> None:\n",
        "      # Ініціалізація атрибутів робітника\n",
        "        self.name = name\n",
        "        self.surname = surname\n",
        "        self.base_salary = base_salary\n",
        "        self.experience = experience\n",
        "\n",
        "    def counted_salary(self) -> float:\n",
        "      # Розрахунок зарплати робітника\n",
        "        if self.experience > 5:\n",
        "            return self.base_salary * 1.2 + 500\n",
        "        elif self.experience > 2:\n",
        "            return self.base_salary + 200\n",
        "        else:\n",
        "            return self.base_salary\n",
        "\n",
        "class Developer(Employee):\n",
        "    pass\n",
        "\n",
        "class Designer(Employee):\n",
        "    def __init__(self, name: str, surname: str, base_salary: float, experience: int, eff_coef: float) -> None:\n",
        "      # Ініціалізація атрибутів дизайнера\n",
        "        super().__init__(name, surname, base_salary, experience)\n",
        "        if 0 <= eff_coef <= 1:\n",
        "            self.eff_coef = eff_coef\n",
        "        elif eff_coef < 0:\n",
        "            self.eff_coef = 0\n",
        "        else:\n",
        "            self.eff_coef = 1\n",
        "\n",
        "    def counted_salary(self) -> float:\n",
        "      # Розрахунок зарплати дизайнера з урахуванням коефіцієнту ефективності\n",
        "        return super().counted_salary() * self.eff_coef\n",
        "\n",
        "class Manager(Employee):\n",
        "    def __init__(self, name: str, surname: str, base_salary: float, experience: int, team: list) -> None:\n",
        "      # Ініціалізація атрибутів менеджера, включаючи його команду\n",
        "        super().__init__(name, surname, base_salary, experience)\n",
        "        self.team = team\n",
        "\n",
        "    def counted_salary(self) -> float:\n",
        "      # Розрахунок зарплати менеджера з урахуванням параметрів команди\n",
        "        total_salary = super().counted_salary()\n",
        "        team_size = len(self.team)\n",
        "        if team_size > 10:\n",
        "            total_salary += 300\n",
        "        elif team_size > 5:\n",
        "            total_salary += 200\n",
        "        developer_count = sum(isinstance(emp, Developer) for emp in self.team)\n",
        "        if developer_count > team_size / 2:\n",
        "            total_salary *= 1.1\n",
        "        return total_salary\n",
        "\n",
        "class Department:\n",
        "    def __init__(self, managers: list[Manager]) -> None:\n",
        "      # Ініціалізація відділу зі списком менеджерів\n",
        "        self.managers = managers\n",
        "\n",
        "    def give_salary(self):\n",
        "      # Виплата зарплати всім працівникам відділу\n",
        "        for manager in self.managers:\n",
        "            print(f\"{manager.name} {manager.surname} отримав {manager.counted_salary()} шекелів.\")\n",
        "            for teammate in manager.team:\n",
        "                print(f\"{teammate.name} {teammate.surname} отримав {teammate.counted_salary()} шекелів.\")\n",
        "\n",
        "# Перевіряємо\n",
        "# Створення робітників\n",
        "dev1 = Developer(\"Taras\", \"Zaika\", 9000, 10)\n",
        "dev2 = Developer(\"Oleh\", \"Pleskach\", 1000, 1)\n",
        "designer1 = Designer(\"Andriy\", \"Chirvon\", 4500, 3, 0.7)\n",
        "designer2 = Designer(\"Andriy\", \"Melnuk\", 4500, 7, 1.2)\n",
        "manager1 = Manager(\"Vlad\", \"Gudz\", 7000, 10, [dev1, designer1])\n",
        "manager2 = Manager(\"Vlad\", \"Tumochuk\", 6500, 4, [dev2, designer2])\n",
        "# Створення відділу\n",
        "department = Department([manager1, manager2])\n",
        "# Виплата зарплати\n",
        "department.give_salary()\n"
      ]
    }
  ],
  "metadata": {
    "colab": {
      "provenance": []
    },
    "kernelspec": {
      "display_name": "venv",
      "language": "python",
      "name": "python3"
    },
    "language_info": {
      "codemirror_mode": {
        "name": "ipython",
        "version": 3
      },
      "file_extension": ".py",
      "mimetype": "text/x-python",
      "name": "python",
      "nbconvert_exporter": "python",
      "pygments_lexer": "ipython3",
      "version": "3.11.8"
    }
  },
  "nbformat": 4,
  "nbformat_minor": 0
}
